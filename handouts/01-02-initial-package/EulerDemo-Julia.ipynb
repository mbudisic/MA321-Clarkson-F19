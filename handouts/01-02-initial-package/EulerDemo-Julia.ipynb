{
 "cells": [
  {
   "cell_type": "markdown",
   "metadata": {
    "collapsed": false
   },
   "source": [
    "# Euler Demo\n",
    "\n",
    "This is an example of a report-style code that you'll be writing for this class. In this case, the report is written using **Julia 1.x**, but you can use Python, Julia, or Matlab/Octave. For theoretical reports, you'll use either Markdown or LaTeX (your choice)."
   ]
  },
  {
   "cell_type": "markdown",
   "metadata": {
    "collapsed": false
   },
   "source": [
    "In this example, we'll integrate a Curtiss-Hirschfelder equation, given by $$y' = -5[y-\\cos(t)]$$\n",
    "\n",
    "Let's define the function specifying the ODE."
   ]
  },
  {
   "cell_type": "code",
   "execution_count": 0,
   "metadata": {
    "collapsed": false
   },
   "outputs": [
   ],
   "source": [
    "CHE(y,t) = -5 * (y - cos(t));"
   ]
  },
  {
   "cell_type": "markdown",
   "metadata": {
    "collapsed": false
   },
   "source": [
    "This is now a function that we can plot against $t$ and $y$ to get the value of the slope."
   ]
  },
  {
   "cell_type": "code",
   "execution_count": 0,
   "metadata": {
    "collapsed": false
   },
   "outputs": [
   ],
   "source": [
    "t = 0:0.1:10; #define the grid time vs state\n",
    "y = (-10:0.1:10)';\n",
    "YP = cos(t); # evaluate the derivative on the grid\n",
    "print(YP)\n"
   ]
  },
  {
   "cell_type": "code",
   "execution_count": 0,
   "metadata": {
    "collapsed": false
   },
   "outputs": [
   ],
   "source": [
    "surfc(T,Y, YP); shading interp; # plot the value of the slope\n",
    "xlabel('t');\n",
    "ylabel('y');\n",
    "zlabel(' y'' ');"
   ]
  },
  {
   "cell_type": "markdown",
   "metadata": {
    "collapsed": true
   },
   "source": [
    "Now, to numerically integrate this equation, we need to define a function that _takes_ the function `CHE` as _argument_ (in addition to initial condition, time step, and duration of simulation)."
   ]
  },
  {
   "cell_type": "code",
   "execution_count": 0,
   "metadata": {
    "collapsed": false
   },
   "outputs": [
   ],
   "source": [
    "function [x,t] = fwd_euler(f, x0, dt, tstart, tend)\n",
    "\n",
    "t = tstart:dt:tend; % define the time vector\n",
    "x = nan([size(t),1]); % state vector should have the same length as the time vector x number of states (1)\n",
    "x(1) = x0;\n",
    "\n",
    "    for k=2:length(t)\n",
    "        x(k) = x(k-1)+dt*f(x(k-1), t(k-1)); % evaluate forward Euler update.\n",
    "    end\n",
    "\n",
    "end\n"
   ]
  },
  {
   "cell_type": "markdown",
   "metadata": {
    "collapsed": false
   },
   "source": [
    "This function doesn't do anything on its own. We have to call it and then plot the results."
   ]
  },
  {
   "cell_type": "code",
   "execution_count": 0,
   "metadata": {
    "collapsed": false
   },
   "outputs": [
   ],
   "source": [
    "[y1,t1] = fwd_euler( CHE, 1, 0.1, 0, 5);\n",
    "plot(t1, y1, 'Marker','.','DisplayName','No. 1')\n",
    "xlabel('t'); ylabel('y');\n",
    "legend('Location','NorthEast')"
   ]
  },
  {
   "cell_type": "markdown",
   "metadata": {
    "collapsed": false
   },
   "source": [
    "We can add a few more initial conditions and time steps."
   ]
  },
  {
   "cell_type": "code",
   "execution_count": 0,
   "metadata": {
    "collapsed": false
   },
   "outputs": [
   ],
   "source": [
    "[y2,t2] = fwd_euler(CHE, -0.5, 0.1, 0,5);\n",
    "[y3,t3] = fwd_euler(CHE, 1, 0.2, 0,5);\n",
    "[y4,t4] = fwd_euler(CHE, -1, 0.05, 0,5);\n",
    "plot(t1, y1, 'Marker','.','DisplayName','No. 1'), hold on;\n",
    "plot(t2, y2, 'Marker','.','DisplayName','No. 2')\n",
    "plot(t3, y3, 'Marker','.','DisplayName','No. 3')\n",
    "plot(t4, y4, 'Marker','.','DisplayName','No. 4'), hold off;\n",
    "\n",
    "xlabel('t'); ylabel('y');\n",
    "legend('Location','NorthEast')"
   ]
  },
  {
   "cell_type": "markdown",
   "metadata": {
    "collapsed": false
   },
   "source": [
    "It looks like all solutions collapse onto the same curve. Well, that's not really what we're interested, we'll be interested in understanding why *increasing* the time step seems to destroy things... Let's take the first initial condition but simulate it with a timestep of `dt=0.5`."
   ]
  },
  {
   "cell_type": "code",
   "execution_count": 0,
   "metadata": {
    "collapsed": false
   },
   "outputs": [
   ],
   "source": [
    "[y1,t1] = fwd_euler( CHE, 1, 0.1, 0, 7);\n",
    "[y5,t5] = fwd_euler( CHE, 1, 0.5, 0, 7);\n",
    "plot(t1, y1, 'Marker','.','DisplayName','Timestep = 0.1'); hold on;\n",
    "plot(t5, y5, 'Marker','.','DisplayName','Timestep = 0.5'); hold off;\n",
    "xlabel('t'); ylabel('y');\n",
    "legend('Location','NorthEast')\n",
    "ylim([-2,2]);"
   ]
  },
  {
   "cell_type": "markdown",
   "metadata": {
    "collapsed": false
   },
   "source": [
    "Ooops... that's no good."
   ]
  }
 ],
 "metadata": {
  "kernelspec": {
   "display_name": "Julia 0.7",
   "language": "julia",
   "name": "julia-0.7"
  },
  "language_info": {
   "file_extension": ".m",
   "help_links": [
    {
     "text": "GNU Octave",
     "url": "https://www.gnu.org/software/octave/support.html"
    },
    {
     "text": "Octave Kernel",
     "url": "https://github.com/Calysto/octave_kernel"
    },
    {
     "text": "MetaKernel Magics",
     "url": "https://github.com/calysto/metakernel/blob/master/metakernel/magics/README.md"
    }
   ],
   "mimetype": "text/x-octave",
   "name": "octave",
   "version": "4.2.2"
  }
 },
 "nbformat": 4,
 "nbformat_minor": 0
}